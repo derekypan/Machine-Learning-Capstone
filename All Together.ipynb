{
 "cells": [
  {
   "cell_type": "code",
   "execution_count": 1,
   "metadata": {
    "collapsed": false
   },
   "outputs": [
    {
     "name": "stdout",
     "output_type": "stream",
     "text": [
      "User rating dataset has 7813737 samples with 3 features each.\n",
      "User anime dataset has 12294 samples with 7 features each.\n"
     ]
    }
   ],
   "source": [
    "#load necessary libraries, datasets\n",
    "import numpy as np\n",
    "import pandas as pd\n",
    "import itertools\n",
    "import random\n",
    "import matplotlib.pyplot as plt\n",
    "%matplotlib inline\n",
    "\n",
    "#load the data set\n",
    "rating_data = pd.read_csv(\"rating.csv\")\n",
    "anime_data = pd.read_csv(\"anime.csv\")\n",
    "print \"User rating dataset has {} samples with {} features each.\".format(*rating_data.shape)\n",
    "print \"User anime dataset has {} samples with {} features each.\".format(*anime_data.shape)"
   ]
  },
  {
   "cell_type": "code",
   "execution_count": 2,
   "metadata": {
    "collapsed": true
   },
   "outputs": [],
   "source": [
    "#data preprocessing\n",
    "\n",
    "#fill null values with None identifier\n",
    "anime_data['genre'] =anime_data['genre'].fillna('None')\n",
    "#turn genre column data into comma seperated lists\n",
    "anime_data['genre'] = anime_data['genre'].apply(lambda x: x.split(', '))\n",
    "#get a list of all unique genre's in dataset\n",
    "genre_all = list(itertools.chain(*anime_data['genre'].values.tolist()))\n",
    "unique_genres = np.unique(genre_all)"
   ]
  },
  {
   "cell_type": "code",
   "execution_count": 5,
   "metadata": {
    "collapsed": false
   },
   "outputs": [
    {
     "data": {
      "text/html": [
       "<div>\n",
       "<table border=\"1\" class=\"dataframe\">\n",
       "  <thead>\n",
       "    <tr style=\"text-align: right;\">\n",
       "      <th></th>\n",
       "      <th>user_id</th>\n",
       "      <th>anime_id</th>\n",
       "      <th>rating</th>\n",
       "    </tr>\n",
       "  </thead>\n",
       "  <tbody>\n",
       "    <tr>\n",
       "      <th>count</th>\n",
       "      <td>7.813737e+06</td>\n",
       "      <td>7.813737e+06</td>\n",
       "      <td>7.813737e+06</td>\n",
       "    </tr>\n",
       "    <tr>\n",
       "      <th>mean</th>\n",
       "      <td>3.672796e+04</td>\n",
       "      <td>8.909072e+03</td>\n",
       "      <td>6.144030e+00</td>\n",
       "    </tr>\n",
       "    <tr>\n",
       "      <th>std</th>\n",
       "      <td>2.099795e+04</td>\n",
       "      <td>8.883950e+03</td>\n",
       "      <td>3.727800e+00</td>\n",
       "    </tr>\n",
       "    <tr>\n",
       "      <th>min</th>\n",
       "      <td>1.000000e+00</td>\n",
       "      <td>1.000000e+00</td>\n",
       "      <td>-1.000000e+00</td>\n",
       "    </tr>\n",
       "    <tr>\n",
       "      <th>25%</th>\n",
       "      <td>1.897400e+04</td>\n",
       "      <td>1.240000e+03</td>\n",
       "      <td>6.000000e+00</td>\n",
       "    </tr>\n",
       "    <tr>\n",
       "      <th>50%</th>\n",
       "      <td>3.679100e+04</td>\n",
       "      <td>6.213000e+03</td>\n",
       "      <td>7.000000e+00</td>\n",
       "    </tr>\n",
       "    <tr>\n",
       "      <th>75%</th>\n",
       "      <td>5.475700e+04</td>\n",
       "      <td>1.409300e+04</td>\n",
       "      <td>9.000000e+00</td>\n",
       "    </tr>\n",
       "    <tr>\n",
       "      <th>max</th>\n",
       "      <td>7.351600e+04</td>\n",
       "      <td>3.451900e+04</td>\n",
       "      <td>1.000000e+01</td>\n",
       "    </tr>\n",
       "  </tbody>\n",
       "</table>\n",
       "</div>"
      ],
      "text/plain": [
       "            user_id      anime_id        rating\n",
       "count  7.813737e+06  7.813737e+06  7.813737e+06\n",
       "mean   3.672796e+04  8.909072e+03  6.144030e+00\n",
       "std    2.099795e+04  8.883950e+03  3.727800e+00\n",
       "min    1.000000e+00  1.000000e+00 -1.000000e+00\n",
       "25%    1.897400e+04  1.240000e+03  6.000000e+00\n",
       "50%    3.679100e+04  6.213000e+03  7.000000e+00\n",
       "75%    5.475700e+04  1.409300e+04  9.000000e+00\n",
       "max    7.351600e+04  3.451900e+04  1.000000e+01"
      ]
     },
     "metadata": {},
     "output_type": "display_data"
    }
   ],
   "source": [
    "from IPython.display import display \n",
    "display(rating_data.describe())"
   ]
  },
  {
   "cell_type": "code",
   "execution_count": 7,
   "metadata": {
    "collapsed": false
   },
   "outputs": [
    {
     "data": {
      "text/html": [
       "<div>\n",
       "<table border=\"1\" class=\"dataframe\">\n",
       "  <thead>\n",
       "    <tr style=\"text-align: right;\">\n",
       "      <th></th>\n",
       "      <th>anime_id</th>\n",
       "      <th>rating</th>\n",
       "      <th>members</th>\n",
       "    </tr>\n",
       "  </thead>\n",
       "  <tbody>\n",
       "    <tr>\n",
       "      <th>count</th>\n",
       "      <td>12294.000000</td>\n",
       "      <td>12064.000000</td>\n",
       "      <td>1.229400e+04</td>\n",
       "    </tr>\n",
       "    <tr>\n",
       "      <th>mean</th>\n",
       "      <td>14058.221653</td>\n",
       "      <td>6.473902</td>\n",
       "      <td>1.807134e+04</td>\n",
       "    </tr>\n",
       "    <tr>\n",
       "      <th>std</th>\n",
       "      <td>11455.294701</td>\n",
       "      <td>1.026746</td>\n",
       "      <td>5.482068e+04</td>\n",
       "    </tr>\n",
       "    <tr>\n",
       "      <th>min</th>\n",
       "      <td>1.000000</td>\n",
       "      <td>1.670000</td>\n",
       "      <td>5.000000e+00</td>\n",
       "    </tr>\n",
       "    <tr>\n",
       "      <th>25%</th>\n",
       "      <td>3484.250000</td>\n",
       "      <td>NaN</td>\n",
       "      <td>2.250000e+02</td>\n",
       "    </tr>\n",
       "    <tr>\n",
       "      <th>50%</th>\n",
       "      <td>10260.500000</td>\n",
       "      <td>NaN</td>\n",
       "      <td>1.550000e+03</td>\n",
       "    </tr>\n",
       "    <tr>\n",
       "      <th>75%</th>\n",
       "      <td>24794.500000</td>\n",
       "      <td>NaN</td>\n",
       "      <td>9.437000e+03</td>\n",
       "    </tr>\n",
       "    <tr>\n",
       "      <th>max</th>\n",
       "      <td>34527.000000</td>\n",
       "      <td>10.000000</td>\n",
       "      <td>1.013917e+06</td>\n",
       "    </tr>\n",
       "  </tbody>\n",
       "</table>\n",
       "</div>"
      ],
      "text/plain": [
       "           anime_id        rating       members\n",
       "count  12294.000000  12064.000000  1.229400e+04\n",
       "mean   14058.221653      6.473902  1.807134e+04\n",
       "std    11455.294701      1.026746  5.482068e+04\n",
       "min        1.000000      1.670000  5.000000e+00\n",
       "25%     3484.250000           NaN  2.250000e+02\n",
       "50%    10260.500000           NaN  1.550000e+03\n",
       "75%    24794.500000           NaN  9.437000e+03\n",
       "max    34527.000000     10.000000  1.013917e+06"
      ]
     },
     "metadata": {},
     "output_type": "display_data"
    }
   ],
   "source": [
    "display(anime_data.describe())"
   ]
  },
  {
   "cell_type": "code",
   "execution_count": 10,
   "metadata": {
    "collapsed": false
   },
   "outputs": [
    {
     "data": {
      "text/plain": [
       "73515"
      ]
     },
     "execution_count": 10,
     "metadata": {},
     "output_type": "execute_result"
    }
   ],
   "source": [
    "len(rating_data.user_id.value_counts())"
   ]
  },
  {
   "cell_type": "code",
   "execution_count": 3,
   "metadata": {
    "collapsed": false
   },
   "outputs": [
    {
     "data": {
      "text/plain": [
       "<matplotlib.text.Text at 0x99ed860>"
      ]
     },
     "execution_count": 3,
     "metadata": {},
     "output_type": "execute_result"
    },
    {
     "data": {
      "image/png": "[encoded data removed]",
      "text/plain": [
       "<matplotlib.figure.Figure at 0x9645be0>"
      ]
     },
     "metadata": {},
     "output_type": "display_data"
    }
   ],
   "source": [
    "#use collections counter to help generate graph\n",
    "import collections\n",
    "genre_counter = collections.Counter(genre_all)\n",
    "#print genre_counter\n",
    "\n",
    "enres = pd.DataFrame.from_dict(genre_counter, orient='index').rename(columns={'index':'genre', 0:'count'})\n",
    "#print enres\n",
    "\n",
    "my_plot = enres.sort_values(by='count',ascending=False).plot(kind='bar',legend=None,title=\"Genre Count\")\n",
    "my_plot.set_xlabel(\"Genre\")\n",
    "my_plot.set_ylabel(\"Count\")"
   ]
  },
  {
   "cell_type": "code",
   "execution_count": 4,
   "metadata": {
    "collapsed": true
   },
   "outputs": [],
   "source": [
    "#helper functions\n",
    "\n",
    "#add genre columns to a dataframe\n",
    "def add_genre_cols(df, genre):\n",
    "    for x in genre:\n",
    "        df[x] = pd.Series(0, index=df.index)\n",
    "    return df\n",
    "\n",
    "#fill genre columns using data frame anime.csv\n",
    "def populate_genre(df):\n",
    "    columns = list(df)\n",
    "    for anime_id in df['anime_id']:\n",
    "        p = anime_data[anime_data['anime_id'] == anime_id].index.tolist()[0]\n",
    "        s = df[df['anime_id'] == anime_id].index.tolist()[0]\n",
    "        genre_list = anime_data.iloc[p]['genre']\n",
    "        for genre_name in genre_list:\n",
    "            for column_name in columns:\n",
    "                if genre_name == column_name:\n",
    "                    df.set_value(s, column_name, 1)\n",
    "    return df\n",
    "\n",
    "#transform rating data into 'Like' or 'Dislike' based on chosen threshold\n",
    "def classify_ratings(df, threshold):\n",
    "    df_index_list = df.index.tolist()    \n",
    "    for i in range(0,len(df['rating'])):\n",
    "        df_index = df_index_list[i]\n",
    "        if df.iloc[i]['rating'] != -1:\n",
    "            if df.iloc[i]['rating'] > threshold:\n",
    "                df.set_value(df_index, 'rating', 1)\n",
    "            else:\n",
    "                df.set_value(df_index, 'rating', 0)\n",
    "    return df"
   ]
  },
  {
   "cell_type": "code",
   "execution_count": 5,
   "metadata": {
    "collapsed": true
   },
   "outputs": [],
   "source": [
    "#a function to create a unique dataframe for a given user\n",
    "def create_user_df(user, genre):\n",
    "    df_user_frame = rating_data.loc[rating_data['user_id'] == user].copy()\n",
    "    \n",
    "    df_user_frame = add_genre_cols(df_user_frame, genre)\n",
    "    \n",
    "    df_user_frame = populate_genre(df_user_frame)\n",
    "                    \n",
    "    df_user_frame = classify_ratings(df_user_frame, 7)\n",
    "    \n",
    "    return df_user_frame"
   ]
  },
  {
   "cell_type": "code",
   "execution_count": 6,
   "metadata": {
    "collapsed": true
   },
   "outputs": [],
   "source": [
    "#prepare recommendation dataframe (all anime's not in user's list)\n",
    "def create_recommendation_df(user_df, genre):\n",
    "    user_watched = user_df['anime_id'].values.astype(int).tolist()\n",
    "    rec_df = anime_data[~anime_data['anime_id'].isin(user_watched)][['anime_id','name']]\n",
    "    \n",
    "    rec_df = add_genre_cols(rec_df, genre)\n",
    "    \n",
    "    return rec_df\n",
    "\n",
    "#provide a list of X recommendations based on learning\n",
    "def get_recommendations(user_df, clf, genre, num_to_show):\n",
    "    rec_df = create_recommendation_df(user_df, genre)\n",
    "    \n",
    "    feature_cols = list(rec_df.columns[2:])\n",
    "    x_guess = rec_df[feature_cols]\n",
    "    y_pred = clf.predict(x_guess)\n",
    "    \n",
    "    like_list = []\n",
    "    for i in range(0, len(y_pred)):\n",
    "        if y_pred[i] == 1:\n",
    "            name = rec_df.iloc[i]['name']\n",
    "            like_list.append(name)\n",
    "    \n",
    "    rand_smpl = [like_list[i] for i in sorted(random.sample(xrange(len(like_list)), num_to_show))]\n",
    "    return rand_smpl"
   ]
  },
  {
   "cell_type": "code",
   "execution_count": 7,
   "metadata": {
    "collapsed": false
   },
   "outputs": [
    {
     "name": "stdout",
     "output_type": "stream",
     "text": [
      "     user_id  anime_id  rating  Action  Adventure  Cars  Comedy  Dementia  \\\n",
      "156        3        20       1       1          0     0       1         0   \n",
      "157        3       154       0       1          1     0       1         0   \n",
      "158        3       170       1       0          0     0       1         0   \n",
      "159        3       199       1       0          1     0       0         0   \n",
      "160        3       225       1       1          1     0       1         0   \n",
      "\n",
      "     Demons  Drama  ...   Shounen Ai  Slice of Life  Space  Sports  \\\n",
      "156       0      0  ...            0              0      0       0   \n",
      "157       0      1  ...            0              0      0       0   \n",
      "158       0      1  ...            0              0      0       1   \n",
      "159       0      1  ...            0              0      0       0   \n",
      "160       0      0  ...            0              0      0       0   \n",
      "\n",
      "     Super Power  Supernatural  Thriller  Vampire  Yaoi  Yuri  \n",
      "156            1             0         0        0     0     0  \n",
      "157            0             1         0        0     0     0  \n",
      "158            0             0         0        0     0     0  \n",
      "159            0             1         0        0     0     0  \n",
      "160            1             0         0        0     0     0  \n",
      "\n",
      "[5 rows x 47 columns] \n",
      "(94, 47)\n"
     ]
    }
   ],
   "source": [
    "#Example with user = 3\n",
    "user_df = create_user_df(3,unique_genres)\n",
    "print user_df.head(), '\\n', user_df.shape"
   ]
  },
  {
   "cell_type": "code",
   "execution_count": 8,
   "metadata": {
    "collapsed": false
   },
   "outputs": [
    {
     "name": "stdout",
     "output_type": "stream",
     "text": [
      "Feature columns:\n",
      "['Action', 'Adventure', 'Cars', 'Comedy', 'Dementia', 'Demons', 'Drama', 'Ecchi', 'Fantasy', 'Game', 'Harem', 'Hentai', 'Historical', 'Horror', 'Josei', 'Kids', 'Magic', 'Martial Arts', 'Mecha', 'Military', 'Music', 'Mystery', 'None', 'Parody', 'Police', 'Psychological', 'Romance', 'Samurai', 'School', 'Sci-Fi', 'Seinen', 'Shoujo', 'Shoujo Ai', 'Shounen', 'Shounen Ai', 'Slice of Life', 'Space', 'Sports', 'Super Power', 'Supernatural', 'Thriller', 'Vampire', 'Yaoi', 'Yuri']\n",
      "\n",
      "Target column: rating\n"
     ]
    }
   ],
   "source": [
    "#identify features and target\n",
    "feature_cols = list(user_df.columns[3:])\n",
    "target_col = user_df.columns[2]\n",
    "print \"Feature columns:\\n{}\".format(feature_cols)\n",
    "print \"\\nTarget column: {}\".format(target_col)"
   ]
  },
  {
   "cell_type": "code",
   "execution_count": 9,
   "metadata": {
    "collapsed": false
   },
   "outputs": [
    {
     "name": "stdout",
     "output_type": "stream",
     "text": [
      "     user_id  anime_id  rating  Action  Adventure  Cars  Comedy  Dementia  \\\n",
      "156        3        20       1       1          0     0       1         0   \n",
      "157        3       154       0       1          1     0       1         0   \n",
      "158        3       170       1       0          0     0       1         0   \n",
      "159        3       199       1       0          1     0       0         0   \n",
      "160        3       225       1       1          1     0       1         0   \n",
      "\n",
      "     Demons  Drama  ...   Shounen Ai  Slice of Life  Space  Sports  \\\n",
      "156       0      0  ...            0              0      0       0   \n",
      "157       0      1  ...            0              0      0       0   \n",
      "158       0      1  ...            0              0      0       1   \n",
      "159       0      1  ...            0              0      0       0   \n",
      "160       0      0  ...            0              0      0       0   \n",
      "\n",
      "     Super Power  Supernatural  Thriller  Vampire  Yaoi  Yuri  \n",
      "156            1             0         0        0     0     0  \n",
      "157            0             1         0        0     0     0  \n",
      "158            0             0         0        0     0     0  \n",
      "159            0             1         0        0     0     0  \n",
      "160            1             0         0        0     0     0  \n",
      "\n",
      "[5 rows x 47 columns] \n",
      "(92, 47)\n"
     ]
    }
   ],
   "source": [
    "#remove unknown data\n",
    "pred_df = user_df[user_df['rating'] != -1].copy()\n",
    "print pred_df.head(), '\\n', pred_df.shape"
   ]
  },
  {
   "cell_type": "code",
   "execution_count": 10,
   "metadata": {
    "collapsed": false
   },
   "outputs": [],
   "source": [
    "#import classifier libraries and f1 scoring metric\n",
    "from sklearn.cross_validation import train_test_split\n",
    "from sklearn.naive_bayes import GaussianNB\n",
    "from sklearn.tree import DecisionTreeClassifier\n",
    "from sklearn.svm import SVC\n",
    "import xgboost as xgb\n",
    "from sklearn.metrics import f1_score"
   ]
  },
  {
   "cell_type": "code",
   "execution_count": 11,
   "metadata": {
    "collapsed": true
   },
   "outputs": [],
   "source": [
    "#split the data into training and testing sets\n",
    "X_all = pred_df[feature_cols]\n",
    "Y_all = pred_df[target_col]\n",
    "\n",
    "x_train, x_test, y_train, y_test = train_test_split(X_all, Y_all, test_size = .25, random_state = 0)"
   ]
  },
  {
   "cell_type": "code",
   "execution_count": 12,
   "metadata": {
    "collapsed": false
   },
   "outputs": [
    {
     "name": "stdout",
     "output_type": "stream",
     "text": [
      "0.625\n"
     ]
    }
   ],
   "source": [
    "#Gaussian Naive Bayes\n",
    "clf_gnb = GaussianNB()\n",
    "clf_gnb.fit(x_train, y_train)\n",
    "\n",
    "y_pred = clf_gnb.predict(x_test)\n",
    "print f1_score(y_test, y_pred)"
   ]
  },
  {
   "cell_type": "code",
   "execution_count": 13,
   "metadata": {
    "collapsed": false
   },
   "outputs": [
    {
     "name": "stdout",
     "output_type": "stream",
     "text": [
      "0.526315789474\n"
     ]
    }
   ],
   "source": [
    "#Decision Tree\n",
    "clf_dt = DecisionTreeClassifier(random_state=0)\n",
    "clf_dt.fit(x_train,y_train)\n",
    "\n",
    "y_pred = clf_dt.predict(x_test)\n",
    "print f1_score(y_test, y_pred)"
   ]
  },
  {
   "cell_type": "code",
   "execution_count": 14,
   "metadata": {
    "collapsed": false
   },
   "outputs": [
    {
     "name": "stdout",
     "output_type": "stream",
     "text": [
      "0.428571428571\n"
     ]
    }
   ],
   "source": [
    "#Support Vector Machine\n",
    "clf_svm = SVC(random_state = 0)\n",
    "clf_svm.fit(x_train,y_train)\n",
    "\n",
    "y_pred = clf_svm.predict(x_test)\n",
    "print f1_score(y_test, y_pred)"
   ]
  },
  {
   "cell_type": "code",
   "execution_count": 15,
   "metadata": {
    "collapsed": false
   },
   "outputs": [
    {
     "name": "stdout",
     "output_type": "stream",
     "text": [
      "0.857142857143\n"
     ]
    }
   ],
   "source": [
    "#XGBoost Trees\n",
    "clf_xgb = xgb.XGBClassifier()\n",
    "clf_xgb.fit(x_train,y_train)\n",
    "\n",
    "y_pred = clf_xgb.predict(x_test)\n",
    "print f1_score(y_test, y_pred)"
   ]
  },
  {
   "cell_type": "code",
   "execution_count": 16,
   "metadata": {
    "collapsed": true
   },
   "outputs": [],
   "source": [
    "#optimization of parameters\n",
    "from sklearn.grid_search import GridSearchCV\n",
    "\n",
    "#define a dict of parameters and potential values to try\n",
    "param_tree = {'criterion': ('gini', 'entropy'), \n",
    "              'splitter': ('best','random'),\n",
    "              'max_features': (2,10,20,'auto', None),\n",
    "              'min_samples_split': (1,2,3,4)\n",
    "             }\n",
    "\n",
    "param_svm = {'C': (.1,1,10,100),\n",
    "             'kernel': ('linear', 'poly', 'rbf', 'sigmoid'),\n",
    "             'gamma': ('auto', .1, 1,2,3,4,5, 10)\n",
    "            }\n",
    "\n",
    "param_xgb = {'max_depth': (2,3,4,5,7,9),\n",
    "             'learning_rate': (.08,.09,.1,.2,.3,.4,.5),\n",
    "             'n_estimators': (1,10,15,16,18,20,40,60,100)\n",
    "            }"
   ]
  },
  {
   "cell_type": "code",
   "execution_count": 17,
   "metadata": {
    "collapsed": false
   },
   "outputs": [
    {
     "name": "stdout",
     "output_type": "stream",
     "text": [
      "{'max_features': 2, 'min_samples_split': 1, 'criterion': 'entropy', 'splitter': 'best'}\n"
     ]
    }
   ],
   "source": [
    "#gridsearch for decision tree\n",
    "gs_clf_tree = GridSearchCV(clf_dt,param_tree,scoring='f1')\n",
    "gs_clf_tree.fit(x_train,y_train)\n",
    "print gs_clf_tree.best_params_"
   ]
  },
  {
   "cell_type": "code",
   "execution_count": 18,
   "metadata": {
    "collapsed": false
   },
   "outputs": [
    {
     "name": "stdout",
     "output_type": "stream",
     "text": [
      "0.588235294118\n"
     ]
    }
   ],
   "source": [
    "clf_dt_op = DecisionTreeClassifier(criterion='entropy', min_samples_split=1, max_features=2, random_state=0)\n",
    "clf_dt_op.fit(x_train,y_train)\n",
    "\n",
    "y_pred = clf_dt_op.predict(x_test)\n",
    "print f1_score(y_test, y_pred)"
   ]
  },
  {
   "cell_type": "code",
   "execution_count": 19,
   "metadata": {
    "collapsed": false
   },
   "outputs": [
    {
     "name": "stderr",
     "output_type": "stream",
     "text": [
      "D:\\Anaconda\\envs\\py27\\lib\\site-packages\\sklearn\\metrics\\classification.py:1074: UndefinedMetricWarning: F-score is ill-defined and being set to 0.0 due to no predicted samples.\n",
      "  'precision', 'predicted', average, warn_for)\n"
     ]
    },
    {
     "name": "stdout",
     "output_type": "stream",
     "text": [
      "{'kernel': 'sigmoid', 'C': 1, 'gamma': 1}\n"
     ]
    }
   ],
   "source": [
    "#gridsearch for support vector machine\n",
    "gs_clf_svm = GridSearchCV(clf_svm,param_svm,scoring='f1')\n",
    "gs_clf_svm.fit(x_train,y_train)\n",
    "print gs_clf_svm.best_params_"
   ]
  },
  {
   "cell_type": "code",
   "execution_count": 20,
   "metadata": {
    "collapsed": false
   },
   "outputs": [
    {
     "name": "stdout",
     "output_type": "stream",
     "text": [
      "0.47619047619\n"
     ]
    }
   ],
   "source": [
    "clf_svm_op = SVC(kernel='sigmoid', gamma= 1, random_state = 0)\n",
    "clf_svm_op.fit(x_train,y_train)\n",
    "\n",
    "y_pred = clf_svm_op.predict(x_test)\n",
    "print f1_score(y_test, y_pred)"
   ]
  },
  {
   "cell_type": "code",
   "execution_count": 21,
   "metadata": {
    "collapsed": false
   },
   "outputs": [
    {
     "name": "stdout",
     "output_type": "stream",
     "text": [
      "{'n_estimators': 15, 'learning_rate': 0.08, 'max_depth': 4}\n"
     ]
    }
   ],
   "source": [
    "#gridsearch for XGBoost Trees\n",
    "gs_clf_xgb = GridSearchCV(clf_xgb,param_xgb,scoring='f1')\n",
    "gs_clf_xgb.fit(x_train,y_train)\n",
    "print gs_clf_xgb.best_params_"
   ]
  },
  {
   "cell_type": "code",
   "execution_count": 22,
   "metadata": {
    "collapsed": false
   },
   "outputs": [
    {
     "name": "stdout",
     "output_type": "stream",
     "text": [
      "0.8\n"
     ]
    }
   ],
   "source": [
    "clf_xgb_op = xgb.XGBClassifier(max_depth=4,learning_rate=0.08,n_estimators=15)\n",
    "clf_xgb_op.fit(x_train,y_train)\n",
    "\n",
    "y_pred = clf_xgb_op.predict(x_test)\n",
    "print f1_score(y_test, y_pred)"
   ]
  },
  {
   "cell_type": "code",
   "execution_count": 23,
   "metadata": {
    "collapsed": false
   },
   "outputs": [
    {
     "name": "stdout",
     "output_type": "stream",
     "text": [
      "['Beelzebub Specials', 'Ore no Imouto ga Konnani Kawaii Wake ga Nai: SD Chara ni Yoru Character Commentary', 'Fushigi Yuugi: Eikouden', 'Boku no Chikyuu wo Mamotte: Kiniro no Toki Nasarete', 'Dr. Slump Movie 09: Arale-chan N-cha!! Wakuwaku Hot no Natsuyasumi', 'Kurumiwari Ningyou', 'Under the Dog: Anthea-chan', 'C.L.A.Y.', 'Straw-saurus Neo', 'Hitoriga The Animation']\n"
     ]
    }
   ],
   "source": [
    "recommendations = get_recommendations(user_df, clf_xgb, unique_genres, 10)\n",
    "print recommendations"
   ]
  },
  {
   "cell_type": "code",
   "execution_count": 24,
   "metadata": {
    "collapsed": false
   },
   "outputs": [
    {
     "name": "stdout",
     "output_type": "stream",
     "text": [
      "Beelzebub Specials   1777    [Action, Comedy, Demons, School, Shounen, Supe...\n",
      "Name: genre, dtype: object\n",
      "Ore no Imouto ga Konnani Kawaii Wake ga Nai: SD Chara ni Yoru Character Commentary   2804    [Comedy]\n",
      "Name: genre, dtype: object\n",
      "Fushigi Yuugi: Eikouden   3409    [Adventure, Drama, Fantasy, Romance, Shoujo]\n",
      "Name: genre, dtype: object\n",
      "Boku no Chikyuu wo Mamotte: Kiniro no Toki Nasarete   3893    [Drama, Music, Romance, Sci-Fi, Shoujo]\n",
      "Name: genre, dtype: object\n",
      "Dr. Slump Movie 09: Arale-chan N-cha!! Wakuwaku Hot no Natsuyasumi   5137    [Comedy, Sci-Fi, Shounen]\n",
      "Name: genre, dtype: object\n",
      "Kurumiwari Ningyou   5869    [Drama, Fantasy, Romance]\n",
      "Name: genre, dtype: object\n",
      "Under the Dog: Anthea-chan   7926    [Action, Comedy, Parody]\n",
      "Name: genre, dtype: object\n",
      "C.L.A.Y.   8021    [Horror]\n",
      "Name: genre, dtype: object\n",
      "Straw-saurus Neo   10411    [Adventure, Fantasy, Kids, Sci-Fi]\n",
      "Name: genre, dtype: object\n",
      "Hitoriga The Animation   11470    [Hentai]\n",
      "Name: genre, dtype: object\n"
     ]
    }
   ],
   "source": [
    "for x in recommendations:\n",
    "    genre = anime_data.loc[anime_data['name'] == x, 'genre']\n",
    "    print x, ' ', genre"
   ]
  },
  {
   "cell_type": "code",
   "execution_count": null,
   "metadata": {
    "collapsed": true
   },
   "outputs": [],
   "source": []
  }
 ],
 "metadata": {
  "anaconda-cloud": {},
  "kernelspec": {
   "display_name": "Python [conda env:py27]",
   "language": "python",
   "name": "conda-env-py27-py"
  },
  "language_info": {
   "codemirror_mode": {
    "name": "ipython",
    "version": 2
   },
   "file_extension": ".py",
   "mimetype": "text/x-python",
   "name": "python",
   "nbconvert_exporter": "python",
   "pygments_lexer": "ipython2",
   "version": "2.7.12"
  }
 },
 "nbformat": 4,
 "nbformat_minor": 1
}
